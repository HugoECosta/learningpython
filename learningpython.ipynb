{
  "nbformat": 4,
  "nbformat_minor": 0,
  "metadata": {
    "colab": {
      "name": "learningpython.ipynb",
      "provenance": [],
      "collapsed_sections": [],
      "include_colab_link": true
    },
    "kernelspec": {
      "name": "python3",
      "display_name": "Python 3"
    },
    "language_info": {
      "name": "python"
    }
  },
  "cells": [
    {
      "cell_type": "markdown",
      "metadata": {
        "id": "view-in-github",
        "colab_type": "text"
      },
      "source": [
        "<a href=\"https://colab.research.google.com/github/HugoECosta/learningpython/blob/main/learningpython.ipynb\" target=\"_parent\"><img src=\"https://colab.research.google.com/assets/colab-badge.svg\" alt=\"Open In Colab\"/></a>"
      ]
    },
    {
      "cell_type": "markdown",
      "metadata": {
        "id": "hmm8T3MzRFnJ"
      },
      "source": [
        "Parte 1 - Variáveis e entrada de dados\n"
      ]
    },
    {
      "cell_type": "markdown",
      "metadata": {
        "id": "Th9stV_cQajv"
      },
      "source": [
        "Comentários e atribuições"
      ]
    },
    {
      "cell_type": "code",
      "metadata": {
        "colab": {
          "base_uri": "https://localhost:8080/"
        },
        "id": "2I-SuMWNOKx2",
        "outputId": "a72312d4-9a5e-4f66-94c3-42a95d2f9fa9"
      },
      "source": [
        "\n",
        "\"\"\"Três aspas duplas é usado quando se faz necessário \n",
        "fazer comentários em mais de uma linha.\"\"\"\n",
        "#Comentário em uma linha\n",
        " \n",
        "#Atribuição de valor para variáveis\n",
        "a = 100\n",
        "\n",
        "#Imprimir o resultado\n",
        "print(a)\n",
        "\n",
        "#A cada nova atribuição o valor da variável é atualizado\n",
        "a = 50\n",
        "print(a)\n"
      ],
      "execution_count": 18,
      "outputs": [
        {
          "output_type": "stream",
          "text": [
            "100\n",
            "50\n"
          ],
          "name": "stdout"
        }
      ]
    },
    {
      "cell_type": "markdown",
      "metadata": {
        "id": "nxsCkSgnRng1"
      },
      "source": [
        "Tipos de variáveis\n"
      ]
    },
    {
      "cell_type": "code",
      "metadata": {
        "colab": {
          "base_uri": "https://localhost:8080/"
        },
        "id": "jfR9ty0DSlrs",
        "outputId": "536dbc40-0b82-4044-bd72-9115ca78d866"
      },
      "source": [
        "#Inteiros - int\n",
        "a = -1 #int - para valores numéricos inteiros\n",
        "b = 50 #     \"    \"\n",
        "c = 0.0#float - para valores numéricos em ponto flutuante(números reais não inteiros)    \n",
        "d = \"2\"#string\n",
        "\n",
        "print(type(a))\n",
        "print(type(b))\n",
        "print(type(c))\n",
        "print(type(d))"
      ],
      "execution_count": null,
      "outputs": [
        {
          "output_type": "stream",
          "text": [
            "<class 'int'>\n",
            "<class 'int'>\n",
            "<class 'float'>\n",
            "<class 'str'>\n"
          ],
          "name": "stdout"
        }
      ]
    },
    {
      "cell_type": "markdown",
      "metadata": {
        "id": "txQtgyYhY9l6"
      },
      "source": [
        "Operações Básicasa\n"
      ]
    },
    {
      "cell_type": "code",
      "metadata": {
        "colab": {
          "base_uri": "https://localhost:8080/",
          "height": 164
        },
        "id": "rgxJknhUZHYh",
        "outputId": "9247b216-4af2-4645-dfc6-f32fdbd1b619"
      },
      "source": [
        "a = 10\n",
        "b = 5\n",
        "\n",
        "print(a + b)#adição\n",
        "print(a - b)#subtração\n",
        "print(a * b)#multiplicação\n",
        "print(a / b)#divisão(com resultado fracionário)\n",
        "print(a // b)#divisão (com resultado inteiro)\n",
        "print(a % b)#Módulo ou resto\n",
        "print(a ** b)#Exponenciação ou potenciação\n",
        "\n",
        "\"\"\" Os parênteses são utilizados em Python \n",
        " da mesma forma que nas expressões matemáticas\"\"\"\n"
      ],
      "execution_count": 17,
      "outputs": [
        {
          "output_type": "stream",
          "text": [
            "15\n",
            "5\n",
            "50\n",
            "2.0\n",
            "2\n",
            "0\n",
            "100000\n"
          ],
          "name": "stdout"
        },
        {
          "output_type": "execute_result",
          "data": {
            "application/vnd.google.colaboratory.intrinsic+json": {
              "type": "string"
            },
            "text/plain": [
              "' Os parênteses são utilizados em Python \\n da mesma forma que nas expressões matemáticas'"
            ]
          },
          "metadata": {
            "tags": []
          },
          "execution_count": 17
        }
      ]
    },
    {
      "cell_type": "markdown",
      "metadata": {
        "id": "hlY1X4aplZ3U"
      },
      "source": [
        "Apresentação dos Resultados"
      ]
    },
    {
      "cell_type": "code",
      "metadata": {
        "colab": {
          "base_uri": "https://localhost:8080/"
        },
        "id": "PHVy4_iwlg16",
        "outputId": "644aa6aa-f4b3-4fff-ea76-bad306eb9e7c"
      },
      "source": [
        "#Existem diversas formas de mostrar os resultados de um programa\n",
        "print ('Texto que será apresentado')\n",
        "\n",
        "#usando combinações de comandos\n",
        "idade = \"45\"# valor numérico sendo utilizado como string\n",
        "print(\"A idade do aluno é: \" +  idade)# concatenando duas strings\n",
        "\n",
        "anoAtual = 2021\n",
        "anoNasc = 1975\n",
        "ida = anoAtual - anoNasc\n",
        "\n",
        "print(\" A idade do aluno é: \", ida)#A virgula separa a string do valor inteiro e faz a concatenação"
      ],
      "execution_count": 12,
      "outputs": [
        {
          "output_type": "stream",
          "text": [
            "Texto que será apresentado\n",
            "A idade do aluno é: 45\n",
            " A idade do aluno é:  46\n"
          ],
          "name": "stdout"
        }
      ]
    }
  ]
}