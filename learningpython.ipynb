{
  "nbformat": 4,
  "nbformat_minor": 0,
  "metadata": {
    "colab": {
      "name": "learningpython.ipynb",
      "provenance": [],
      "authorship_tag": "ABX9TyOSbF8zVqflkLBLF/YrKac9",
      "include_colab_link": true
    },
    "kernelspec": {
      "name": "python3",
      "display_name": "Python 3"
    },
    "language_info": {
      "name": "python"
    }
  },
  "cells": [
    {
      "cell_type": "markdown",
      "metadata": {
        "id": "view-in-github",
        "colab_type": "text"
      },
      "source": [
        "<a href=\"https://colab.research.google.com/github/HugoECosta/learningpython/blob/main/learningpython.ipynb\" target=\"_parent\"><img src=\"https://colab.research.google.com/assets/colab-badge.svg\" alt=\"Open In Colab\"/></a>"
      ]
    },
    {
      "cell_type": "markdown",
      "metadata": {
        "id": "hmm8T3MzRFnJ"
      },
      "source": [
        "Parte 1 - Variáveis e entrada de dados\n"
      ]
    },
    {
      "cell_type": "markdown",
      "metadata": {
        "id": "Th9stV_cQajv"
      },
      "source": [
        "Comentários e atribuições"
      ]
    },
    {
      "cell_type": "code",
      "metadata": {
        "colab": {
          "base_uri": "https://localhost:8080/"
        },
        "id": "2I-SuMWNOKx2",
        "outputId": "8f596bf4-4363-4036-baa7-5f51eb4a29cc"
      },
      "source": [
        "\n",
        "\"\"\"Três aspas duplas é usado quando se faz necessário \n",
        "fazer comentários em mais de uma linha.\"\"\"\n",
        "#Comentário em uma linha\n",
        " \n",
        "#Atribuição de valor para variáveis\n",
        "a = 100\n",
        "\n",
        "#Imprimir o resultado\n",
        "print(a)\n",
        "\n",
        "#A cada nova atribuição o valor da variável é atualizado\n",
        "a = 50\n",
        "print(a)\n"
      ],
      "execution_count": 6,
      "outputs": [
        {
          "output_type": "stream",
          "text": [
            "100\n",
            "50\n"
          ],
          "name": "stdout"
        }
      ]
    },
    {
      "cell_type": "markdown",
      "metadata": {
        "id": "nxsCkSgnRng1"
      },
      "source": [
        "Tipos de variáveis\n"
      ]
    },
    {
      "cell_type": "code",
      "metadata": {
        "colab": {
          "base_uri": "https://localhost:8080/"
        },
        "id": "jfR9ty0DSlrs",
        "outputId": "536dbc40-0b82-4044-bd72-9115ca78d866"
      },
      "source": [
        "#Inteiros - int\n",
        "a = -1\n",
        "b = 50\n",
        "c = 0.0\n",
        "d = \"2\"\n",
        "\n",
        "print(type(a))\n",
        "print(type(b))\n",
        "print(type(c))\n",
        "print(type(d))"
      ],
      "execution_count": 18,
      "outputs": [
        {
          "output_type": "stream",
          "text": [
            "<class 'int'>\n",
            "<class 'int'>\n",
            "<class 'float'>\n",
            "<class 'str'>\n"
          ],
          "name": "stdout"
        }
      ]
    }
  ]
}